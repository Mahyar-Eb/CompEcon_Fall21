{
 "cells": [
  {
   "cell_type": "code",
   "execution_count": 90,
   "id": "13619286",
   "metadata": {},
   "outputs": [],
   "source": [
    "import numpy as np\n",
    "import pandas as pd\n",
    "from pandas import DataFrame as df\n",
    "from pandas import ExcelWriter\n",
    "from pandas import ExcelFile\n",
    "import itertools\n",
    "import scipy.optimize as opt\n",
    "from scipy.optimize import minimize\n",
    "from scipy.optimize import differential_evolution\n",
    "import geopy\n",
    "from geopy import distance"
   ]
  },
  {
   "cell_type": "code",
   "execution_count": 128,
   "id": "ca60a994",
   "metadata": {},
   "outputs": [],
   "source": [
    "# 1.reading \n",
    "df = pd.read_csv(\"radio_merger_data.csv\")\n",
    "#2.Convert scale of price and population to 1000 dollars and 1000 people respectively\n",
    "df.price = df.price/1000\n",
    "df.population_target = df.population_target/1000"
   ]
  },
  {
   "cell_type": "code",
   "execution_count": 129,
   "id": "da175d12",
   "metadata": {},
   "outputs": [],
   "source": [
    "# Defining counterfactual dataset for each year:\n",
    "df2007 = df[df['year']==2007]\n",
    "df2008 = df[df['year']==2008]\n",
    "cf2007 = counterfact[counterfact['year']==2007]\n",
    "cf2008 = counterfact[counterfact['year']==2008]"
   ]
  },
  {
   "cell_type": "code",
   "execution_count": 139,
   "id": "a8c48bdc",
   "metadata": {},
   "outputs": [],
   "source": [
    "dfy = dict(iter(df.groupby('year', as_index = False)))\n",
    "dfy[2007].describe().to_csv(\"describe2007.csv\")\n",
    "dfy[2008].describe().to_csv(\"describe2008.csv\")\n",
    "B = ['year', 'buyer_id', 'buyer_lat', 'buyer_long', 'num_stations_buyer', 'corp_owner_buyer']\n",
    "T = ['target_id', 'target_lat', 'target_long', 'price', 'hhi_target', 'population_target']\n",
    "data = [pd.DataFrame(dfy[2007]), pd.DataFrame(dfy[2008])]\n",
    "counterfact = pd.DataFrame()\n",
    "counterfact = pd.DataFrame([x[B].iloc[i].values.tolist() + x[T].iloc[j].values.tolist() for x in data for i in range(len(x)) for j in range(len(x)) if i!= j], columns = B + T)"
   ]
  },
  {
   "cell_type": "code",
   "execution_count": 140,
   "id": "090b9cc5",
   "metadata": {},
   "outputs": [
    {
     "data": {
      "text/html": [
       "<div>\n",
       "<style scoped>\n",
       "    .dataframe tbody tr th:only-of-type {\n",
       "        vertical-align: middle;\n",
       "    }\n",
       "\n",
       "    .dataframe tbody tr th {\n",
       "        vertical-align: top;\n",
       "    }\n",
       "\n",
       "    .dataframe thead th {\n",
       "        text-align: right;\n",
       "    }\n",
       "</style>\n",
       "<table border=\"1\" class=\"dataframe\">\n",
       "  <thead>\n",
       "    <tr style=\"text-align: right;\">\n",
       "      <th></th>\n",
       "      <th>year</th>\n",
       "      <th>buyer_id</th>\n",
       "      <th>buyer_lat</th>\n",
       "      <th>buyer_long</th>\n",
       "      <th>num_stations_buyer</th>\n",
       "      <th>corp_owner_buyer</th>\n",
       "      <th>target_id</th>\n",
       "      <th>target_lat</th>\n",
       "      <th>target_long</th>\n",
       "      <th>price</th>\n",
       "      <th>hhi_target</th>\n",
       "      <th>population_target</th>\n",
       "    </tr>\n",
       "  </thead>\n",
       "  <tbody>\n",
       "    <tr>\n",
       "      <th>0</th>\n",
       "      <td>2007.0</td>\n",
       "      <td>1.0</td>\n",
       "      <td>46.592512</td>\n",
       "      <td>-92.549564</td>\n",
       "      <td>3.0</td>\n",
       "      <td>0.0</td>\n",
       "      <td>2.0</td>\n",
       "      <td>33.025375</td>\n",
       "      <td>-86.059702</td>\n",
       "      <td>1472.46320</td>\n",
       "      <td>376.0</td>\n",
       "      <td>11.539</td>\n",
       "    </tr>\n",
       "    <tr>\n",
       "      <th>1</th>\n",
       "      <td>2007.0</td>\n",
       "      <td>1.0</td>\n",
       "      <td>46.592512</td>\n",
       "      <td>-92.549564</td>\n",
       "      <td>3.0</td>\n",
       "      <td>0.0</td>\n",
       "      <td>3.0</td>\n",
       "      <td>31.122499</td>\n",
       "      <td>-87.766408</td>\n",
       "      <td>3786.33390</td>\n",
       "      <td>129.0</td>\n",
       "      <td>182.265</td>\n",
       "    </tr>\n",
       "    <tr>\n",
       "      <th>2</th>\n",
       "      <td>2007.0</td>\n",
       "      <td>1.0</td>\n",
       "      <td>46.592512</td>\n",
       "      <td>-92.549564</td>\n",
       "      <td>3.0</td>\n",
       "      <td>0.0</td>\n",
       "      <td>4.0</td>\n",
       "      <td>36.196946</td>\n",
       "      <td>-94.006823</td>\n",
       "      <td>473.29174</td>\n",
       "      <td>188.0</td>\n",
       "      <td>203.065</td>\n",
       "    </tr>\n",
       "    <tr>\n",
       "      <th>3</th>\n",
       "      <td>2007.0</td>\n",
       "      <td>1.0</td>\n",
       "      <td>46.592512</td>\n",
       "      <td>-92.549564</td>\n",
       "      <td>3.0</td>\n",
       "      <td>0.0</td>\n",
       "      <td>5.0</td>\n",
       "      <td>40.909898</td>\n",
       "      <td>-73.457023</td>\n",
       "      <td>1840.57900</td>\n",
       "      <td>284.0</td>\n",
       "      <td>1493.350</td>\n",
       "    </tr>\n",
       "    <tr>\n",
       "      <th>4</th>\n",
       "      <td>2007.0</td>\n",
       "      <td>1.0</td>\n",
       "      <td>46.592512</td>\n",
       "      <td>-92.549564</td>\n",
       "      <td>3.0</td>\n",
       "      <td>0.0</td>\n",
       "      <td>6.0</td>\n",
       "      <td>39.269849</td>\n",
       "      <td>-107.023350</td>\n",
       "      <td>1104.34740</td>\n",
       "      <td>51.0</td>\n",
       "      <td>17.148</td>\n",
       "    </tr>\n",
       "  </tbody>\n",
       "</table>\n",
       "</div>"
      ],
      "text/plain": [
       "     year  buyer_id  buyer_lat  buyer_long  num_stations_buyer  \\\n",
       "0  2007.0       1.0  46.592512  -92.549564                 3.0   \n",
       "1  2007.0       1.0  46.592512  -92.549564                 3.0   \n",
       "2  2007.0       1.0  46.592512  -92.549564                 3.0   \n",
       "3  2007.0       1.0  46.592512  -92.549564                 3.0   \n",
       "4  2007.0       1.0  46.592512  -92.549564                 3.0   \n",
       "\n",
       "   corp_owner_buyer  target_id  target_lat  target_long       price  \\\n",
       "0               0.0        2.0   33.025375   -86.059702  1472.46320   \n",
       "1               0.0        3.0   31.122499   -87.766408  3786.33390   \n",
       "2               0.0        4.0   36.196946   -94.006823   473.29174   \n",
       "3               0.0        5.0   40.909898   -73.457023  1840.57900   \n",
       "4               0.0        6.0   39.269849  -107.023350  1104.34740   \n",
       "\n",
       "   hhi_target  population_target  \n",
       "0       376.0             11.539  \n",
       "1       129.0            182.265  \n",
       "2       188.0            203.065  \n",
       "3       284.0           1493.350  \n",
       "4        51.0             17.148  "
      ]
     },
     "execution_count": 140,
     "metadata": {},
     "output_type": "execute_result"
    }
   ],
   "source": [
    "counterfact.head()"
   ]
  },
  {
   "cell_type": "code",
   "execution_count": 142,
   "id": "73cb65f8",
   "metadata": {},
   "outputs": [],
   "source": [
    "# define distance\n",
    "def dist(d):\n",
    "    '''\n",
    "    This function calculates distance between two points in miles\n",
    "    b_loc = The coordinates for buyer's location\n",
    "    t_loc = The coordinates for target's location\n",
    "    '''\n",
    "    b_loc = (d['buyer_lat'], d['buyer_long'])\n",
    "    t_loc = (d['target_lat'], d['target_long'])\n",
    "    return distance.distance(b_loc, t_loc).miles\n",
    "\n",
    "df['distance'] = df.apply(dist, axis=1)\n",
    "counterfact['distance'] = counterfact.apply(dist, axis=1)\n"
   ]
  },
  {
   "cell_type": "code",
   "execution_count": 143,
   "id": "6fad9af0",
   "metadata": {},
   "outputs": [],
   "source": [
    "#Score function definition for model 1 , without transfers, using Gale-Shapely Algorithm\n",
    "def score1_GS(params, m, n):\n",
    "    '''\n",
    "    Payoff function for mergers to be used in the indicator function\n",
    "    Indicator == 1 if f(b,t) + f(b',t') > f(b',t) + f(b,t')\n",
    "    Indicator == 0 otherwise\n",
    "    '''\n",
    "    f_b_t = m['num_stations_buyer'] * m['population_target'] + params[0] * m['corp_owner_buyer'] * m['population_target'] + params[1] * m['distance']\n",
    "    f_cb_ct = n['num_stations_buyer'] * n['population_target'] + params[0] * n['corp_owner_buyer'] * n['population_target'] + params[1] * n['distance']\n",
    "    f_cb_t = n['num_stations_buyer'] * m['population_target'] + params[0] * n['corp_owner_buyer'] * m['population_target'] + params[1] * m['distance']\n",
    "    f_b_ct = m['num_stations_buyer'] * n['population_target'] + params[0] * m['corp_owner_buyer'] * n['population_target'] + params[1] * m['distance']\n",
    "    L = f_b_t + f_cb_ct\n",
    "    R = f_cb_t + f_b_ct\n",
    "    indicator=(L>R)\n",
    "    total_payoff = indicator.sum()\n",
    "    return -total_payoff\n",
    "\n",
    "bounds = [(-10,10), (-10,10)]\n",
    "GS1_dif = differential_evolution(score1_GS, bounds, args=(df, counterfact), strategy='best1bin', maxiter=10000)"
   ]
  },
  {
   "cell_type": "code",
   "execution_count": 144,
   "id": "5245d09c",
   "metadata": {},
   "outputs": [],
   "source": [
    "#Score function definition for model 2 , without transfers, using Gale-Shapely Algorithm\n",
    "def score2_GS(params, m, n):\n",
    "\n",
    "    '''\n",
    "    Payoff function for mergers to be used in the indicator function\n",
    "    Indicator == 1 if f(b,t) + f(b',t') > f(b',t) + f(b,t')\n",
    "    Indicator == 0 otherwise\n",
    "    '''\n",
    "    f_b_t = params[0] * m['num_stations_buyer'] * m['population_target'] + params[1] * m['corp_owner_buyer'] * m['population_target'] + params[2] * m['hhi_target'] + params[3] * m['distance']\n",
    "    f_cb_ct = params[0] * n['num_stations_buyer'] * n['population_target'] + params[1] * n['corp_owner_buyer'] * n['population_target'] + params[2]*n['hhi_target'] + params[3] * n['distance']\n",
    "    f_cb_t = params[0] * n['num_stations_buyer'] * m['population_target'] + params[1] * n['corp_owner_buyer'] * m['population_target'] + params[2] * m['hhi_target'] + params[3] * m['distance']\n",
    "    f_b_ct = params[0] * m['num_stations_buyer'] * n['population_target'] + params[1] * n['corp_owner_buyer'] * n['population_target'] + params[2] * m['hhi_target'] + params[3] * m['distance']\n",
    "\n",
    "    L = f_b_t + f_cb_ct\n",
    "    R = f_cb_t + f_b_ct\n",
    "    indicator=(L>R)\n",
    "    total_payoff = indicator.sum()\n",
    "    return -total_payoff\n",
    "\n",
    "bounds = [(-5,5), (-10,10), (-10, 10), (-10,10)]\n",
    "GS2_dif = differential_evolution(score2_GS, bounds, args=(df, counterfact), strategy='best1bin', maxiter=100000)"
   ]
  },
  {
   "cell_type": "code",
   "execution_count": 145,
   "id": "2c35c520",
   "metadata": {},
   "outputs": [],
   "source": [
    "#Score function definition for model 1 , with transfers, using Becker-Shapely-Subik Algorithm\n",
    "def score1_BSS(params, m, n):\n",
    "    '''\n",
    "    Payoff function for mergers to be used in the indicator function\n",
    "    Indicator == 1 if f(b,t) + f(b',t') > f(b',t) + f(b,t')\n",
    "    Indicator == 0 otherwise\n",
    "    '''\n",
    "    f_b_t = m['num_stations_buyer'] * m['population_target'] + params[0] * m['corp_owner_buyer'] * m['population_target'] + params[1] * m['distance']\n",
    "    f_cb_ct = n['num_stations_buyer'] * n['population_target'] + params[0] * n['corp_owner_buyer'] * n['population_target'] + params[1] * n['distance']\n",
    "    f_cb_t = n['num_stations_buyer'] * m['population_target'] + params[0] * n['corp_owner_buyer'] * m['population_target'] + params[1] * m['distance']\n",
    "    f_b_ct = m['num_stations_buyer'] * n['population_target'] + params[0] * m['corp_owner_buyer'] * n['population_target'] + params[1] * m['distance']\n",
    "    L1 = f_b_t - f_b_ct\n",
    "    R1 = m['price'] - n['price']\n",
    "    L2 = f_cb_ct - f_cb_t\n",
    "    R2 = n['price'] - m['price']\n",
    "    indicator= ((L1 >= R1) & (L2 >= R2))\n",
    "    total_payoff = indicator.sum()\n",
    "    return -total_payoff\n",
    "\n",
    "bounds = [(-5,5), (-10,10)]\n",
    "BSS1_dif = differential_evolution(score1_BSS, bounds, args=(df, counterfact), strategy='best1bin', maxiter=10000)\n",
    "\n"
   ]
  },
  {
   "cell_type": "code",
   "execution_count": 148,
   "id": "4140903c",
   "metadata": {},
   "outputs": [],
   "source": [
    "#Score function definition for model 2 , with transfers, using Becker-Shapely-Subik Algorithm\n",
    "def score2_BSS(params, m, n):\n",
    "    '''\n",
    "    Payoff function for mergers to be used in the indicator function.\n",
    "    Indicator == 1 if f(b,t) + f(b',t') > f(b',t) + f(b,t')\n",
    "    Indicator == 0 otherwise.\n",
    "    '''\n",
    "    f_b_t = params[0] * m['num_stations_buyer'] * m['population_target'] + params[1] * m['corp_owner_buyer'] * m['population_target'] + params[2] * m['hhi_target'] + params[3] * m['distance']\n",
    "    f_cb_ct = params[0] * n['num_stations_buyer'] * n['population_target'] + params[1] * n['corp_owner_buyer'] * n['population_target'] + params[2]*n['hhi_target'] + params[3] * n['distance']\n",
    "    f_cb_t = params[0] * n['num_stations_buyer'] * m['population_target'] + params[1] * n['corp_owner_buyer'] * m['population_target'] + params[2] * m['hhi_target'] + params[3] * m['distance']\n",
    "    f_b_ct = params[0] * m['num_stations_buyer'] * n['population_target'] + params[1] * n['corp_owner_buyer'] * n['population_target'] + params[2] * m['hhi_target'] + params[3] * m['distance']\n",
    "\n",
    "    L1 = f_b_t - f_b_ct\n",
    "    R1 = m['price'] - n['price']\n",
    "    L2 = f_cb_ct - f_cb_t\n",
    "    R2 = n['price'] - m['price']\n",
    "    indicator= ((L1 >= R1) & (L2 >= R2))\n",
    "    total_payoff = indicator.sum()\n",
    "    return -total_payoff\n",
    "\n",
    "bounds = [(-5,5), (-10,10), (-10, 10), (-10,10)]\n",
    "BSS2_dif = differential_evolution(score2_BSS, bounds, args=(df, counterfact), strategy='best1bin', maxiter=10000)"
   ]
  },
  {
   "cell_type": "code",
   "execution_count": 214,
   "id": "1d682c83",
   "metadata": {},
   "outputs": [
    {
     "name": "stdout",
     "output_type": "stream",
     "text": [
      "|   Alpha  |    Beta |\n",
      "|----------|---------|\n",
      "|  7.26329 | 6.9054  |\n",
      "| -2.1352  | 9.47624 |\n"
     ]
    }
   ],
   "source": [
    "from tabulate import tabulate\n",
    "d = [GS1_dif.x ,BSS1_dif.x] \n",
    "print(tabulate(d,headers=[\"Alpha \",\"Beta\"],tablefmt=\"github\"))"
   ]
  },
  {
   "cell_type": "code",
   "execution_count": 222,
   "id": "1bdf051c",
   "metadata": {},
   "outputs": [
    {
     "name": "stdout",
     "output_type": "stream",
     "text": [
      "|   Sigma  |    Alpha  |   Gamma  |    Beta |\n",
      "|----------|-----------|----------|---------|\n",
      "| 0.729169 |   7.3894  |  1.08678 | 4.95609 |\n",
      "| 2.41002  |  -4.62312 | -3.21928 | 9.72082 |\n"
     ]
    }
   ],
   "source": [
    "dd=  [GS2_dif.x,BSS2_dif.x] \n",
    "\n",
    "print(tabulate(dd,headers=[\"Sigma \",\" Alpha \",\"Gamma \",\"Beta\" ],tablefmt=\"github\"))"
   ]
  },
  {
   "cell_type": "code",
   "execution_count": 218,
   "id": "03e94e7e",
   "metadata": {},
   "outputs": [
    {
     "name": "stdout",
     "output_type": "stream",
     "text": [
      "\\begin{tabular}{rr}\n",
      "\\hline\n",
      "   Alpha  &    Beta \\\\\n",
      "\\hline\n",
      "  7.26329 & 6.9054  \\\\\n",
      " -2.1352  & 9.47624 \\\\\n",
      "\\hline\n",
      "\\end{tabular}\n"
     ]
    }
   ],
   "source": [
    "from tabulate import tabulate\n",
    "d = [GS1_dif.x ,BSS1_dif.x] \n",
    "print(tabulate(d,headers=[\"Alpha \",\"Beta\"],tablefmt=\"latex\"))"
   ]
  },
  {
   "cell_type": "code",
   "execution_count": 223,
   "id": "52b93084",
   "metadata": {},
   "outputs": [
    {
     "name": "stdout",
     "output_type": "stream",
     "text": [
      "\\begin{tabular}{rrrr}\n",
      "\\hline\n",
      "   Sigma  &    Alpha  &   Gamma  &    Beta \\\\\n",
      "\\hline\n",
      " 0.729169 &   7.3894  &  1.08678 & 4.95609 \\\\\n",
      " 2.41002  &  -4.62312 & -3.21928 & 9.72082 \\\\\n",
      "\\hline\n",
      "\\end{tabular}\n"
     ]
    }
   ],
   "source": [
    "dd=  [GS2_dif.x,BSS2_dif.x] \n",
    "\n",
    "print(tabulate(dd,headers=[\"Sigma \",\" Alpha \",\"Gamma \",\"Beta\" ],tablefmt=\"latex\"))"
   ]
  }
 ],
 "metadata": {
  "kernelspec": {
   "display_name": "Python 3",
   "language": "python",
   "name": "python3"
  },
  "language_info": {
   "codemirror_mode": {
    "name": "ipython",
    "version": 3
   },
   "file_extension": ".py",
   "mimetype": "text/x-python",
   "name": "python",
   "nbconvert_exporter": "python",
   "pygments_lexer": "ipython3",
   "version": "3.8.8"
  }
 },
 "nbformat": 4,
 "nbformat_minor": 5
}
