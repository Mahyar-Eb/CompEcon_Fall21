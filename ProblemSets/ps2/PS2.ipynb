{
 "cells": [
  {
   "cell_type": "markdown",
   "id": "0500db0b",
   "metadata": {},
   "source": [
    "# Question 1 problem #1"
   ]
  },
  {
   "cell_type": "code",
   "execution_count": 17,
   "id": "efabbd38",
   "metadata": {},
   "outputs": [
    {
     "name": "stdout",
     "output_type": "stream",
     "text": [
      "min = 10 max =  50 average = 24.666666666666668\n"
     ]
    }
   ],
   "source": [
    "def function_1(L): \n",
    "    '''Function for finding mean,max and min of list L'''\n",
    "    minimum = min(L)\n",
    "    maximum = max(L)\n",
    "    mean =sum(L)/len(L)\n",
    "    print(\"min =\", min(L),\"max = \", max(L),\"average =\", (sum(L)/len(L)))\n",
    " #yes we can use the function we just defined, in one line\n",
    "function_1 ([10,14,50])"
   ]
  },
  {
   "cell_type": "markdown",
   "id": "ec226627",
   "metadata": {},
   "source": [
    "# Question 1 problem #2\n"
   ]
  },
  {
   "cell_type": "code",
   "execution_count": 18,
   "id": "f73f87d3",
   "metadata": {},
   "outputs": [
    {
     "data": {
      "text/plain": [
       "False"
      ]
     },
     "execution_count": 18,
     "metadata": {},
     "output_type": "execute_result"
    }
   ],
   "source": [
    "#test for immutability of integers\n",
    "a = 10\n",
    "b = a\n",
    "b = 3\n",
    "a == b\n",
    "#integers are immutable"
   ]
  },
  {
   "cell_type": "code",
   "execution_count": 19,
   "id": "c2811173",
   "metadata": {},
   "outputs": [
    {
     "name": "stdout",
     "output_type": "stream",
     "text": [
      "10 3\n"
     ]
    }
   ],
   "source": [
    "print(a,b)"
   ]
  },
  {
   "cell_type": "code",
   "execution_count": 20,
   "id": "2de35feb",
   "metadata": {},
   "outputs": [
    {
     "data": {
      "text/plain": [
       "True"
      ]
     },
     "execution_count": 20,
     "metadata": {},
     "output_type": "execute_result"
    }
   ],
   "source": [
    "#test for immutability of list\n",
    "m=[\"mahyar\", 10, 23,64]\n",
    "f = m\n",
    "m[3]=130000\n",
    "f[0]= list([1, 2])\n",
    "m == f"
   ]
  },
  {
   "cell_type": "code",
   "execution_count": 21,
   "id": "760c1976",
   "metadata": {},
   "outputs": [
    {
     "name": "stdout",
     "output_type": "stream",
     "text": [
      "[[1, 2], 10, 23, 130000]\n"
     ]
    }
   ],
   "source": [
    "print(m)# lists are mutable "
   ]
  },
  {
   "cell_type": "code",
   "execution_count": 22,
   "id": "c155b9b5",
   "metadata": {},
   "outputs": [
    {
     "data": {
      "text/plain": [
       "False"
      ]
     },
     "execution_count": 22,
     "metadata": {},
     "output_type": "execute_result"
    }
   ],
   "source": [
    "#test for immutability of list\n",
    "c = 'Work Hard Be Nice!'\n",
    "d = c\n",
    "d = 12345\n",
    "c == d"
   ]
  },
  {
   "cell_type": "code",
   "execution_count": 23,
   "id": "f24993c8",
   "metadata": {},
   "outputs": [
    {
     "name": "stdout",
     "output_type": "stream",
     "text": [
      "Work Hard Be Nice! 12345\n"
     ]
    }
   ],
   "source": [
    "print(c,d)# strings are immutable"
   ]
  },
  {
   "cell_type": "code",
   "execution_count": 24,
   "id": "6c21133b",
   "metadata": {},
   "outputs": [
    {
     "data": {
      "text/plain": [
       "False"
      ]
     },
     "execution_count": 24,
     "metadata": {},
     "output_type": "execute_result"
    }
   ],
   "source": [
    "#test for immutability of tuples\n",
    "g = (\"Happy\", 10, 5, 4) #tuples are immutable \n",
    "h = g\n",
    "h += ('5',)\n",
    "h == g"
   ]
  },
  {
   "cell_type": "code",
   "execution_count": 25,
   "id": "a1b00aaf",
   "metadata": {},
   "outputs": [
    {
     "name": "stdout",
     "output_type": "stream",
     "text": [
      "('Happy', 10, 5, 4) ('Happy', 10, 5, 4, '5')\n"
     ]
    }
   ],
   "source": [
    "print(g,h)#tuples are immutable "
   ]
  },
  {
   "cell_type": "code",
   "execution_count": 26,
   "id": "8e91f03a",
   "metadata": {},
   "outputs": [],
   "source": [
    "#test for immutability of tuples\n",
    "myset = {\"Happy\", 4, 10}\n",
    "set_2 = myset\n",
    "set_2 -= {1}\n",
    "myset == set_2\n",
    "#or\n",
    "set1={\"red\",\"blue\",\"green\",\"red\"}\n",
    "set1.add(\"yellow\")\n",
    "set1.update([1,2,3,4])"
   ]
  },
  {
   "cell_type": "code",
   "execution_count": 27,
   "id": "6c5b7e9e",
   "metadata": {},
   "outputs": [
    {
     "ename": "NameError",
     "evalue": "name 'set_1' is not defined",
     "output_type": "error",
     "traceback": [
      "\u001b[1;31m---------------------------------------------------------------------------\u001b[0m",
      "\u001b[1;31mNameError\u001b[0m                                 Traceback (most recent call last)",
      "\u001b[1;32m<ipython-input-27-94366335c992>\u001b[0m in \u001b[0;36m<module>\u001b[1;34m\u001b[0m\n\u001b[1;32m----> 1\u001b[1;33m \u001b[0mprint\u001b[0m\u001b[1;33m(\u001b[0m\u001b[0mset_1\u001b[0m\u001b[1;33m,\u001b[0m\u001b[0mset_2\u001b[0m\u001b[1;33m,\u001b[0m\u001b[0mset1\u001b[0m\u001b[1;33m,\u001b[0m\u001b[1;34m\",repeated item   eliminated automatically\"\u001b[0m\u001b[1;33m)\u001b[0m\u001b[1;31m#sets are mutable\u001b[0m\u001b[1;33m\u001b[0m\u001b[1;33m\u001b[0m\u001b[0m\n\u001b[0m",
      "\u001b[1;31mNameError\u001b[0m: name 'set_1' is not defined"
     ]
    }
   ],
   "source": [
    "print(set_1,set_2,set1,\",repeated item   eliminated automatically\")#sets are mutable"
   ]
  },
  {
   "cell_type": "markdown",
   "id": "b9919ebe",
   "metadata": {},
   "source": [
    "# Question 1 problem 3"
   ]
  },
  {
   "cell_type": "code",
   "execution_count": 28,
   "id": "61fca706",
   "metadata": {},
   "outputs": [
    {
     "name": "stdout",
     "output_type": "stream",
     "text": [
      "5.0\n"
     ]
    }
   ],
   "source": [
    "import calculator as cal\n",
    "def fhypotenuse(m, n):\n",
    "    alpha = cal.fmultp(m, m)\n",
    "    beta = cal.fmultp(n, n)\n",
    "    print(cal.sqrt(cal.fsums(alpha, beta)))\n",
    "fhypotenuse(3,4)"
   ]
  },
  {
   "cell_type": "markdown",
   "id": "570d739e",
   "metadata": {},
   "source": [
    "# Question 2 problem 1"
   ]
  },
  {
   "cell_type": "code",
   "execution_count": 29,
   "id": "b43ca62c",
   "metadata": {},
   "outputs": [
    {
     "data": {
      "text/plain": [
       "array([[ 37,  14, -32, -10],\n",
       "       [-54,  -7,  58,  65]])"
      ]
     },
     "execution_count": 29,
     "metadata": {},
     "output_type": "execute_result"
    }
   ],
   "source": [
    "#By using np.dot\n",
    "import numpy as np\n",
    "def MMULT(A, B):\n",
    "    return np.dot(np.array(A), np.array(B))\n",
    "A = [[3, -1, 4], [1, 5, -9]]\n",
    "B = [[2, 6, -5, 3], [5, -8, 9, 7], [9, -3, -2, -3]]\n",
    "MMULT(A, B)"
   ]
  },
  {
   "cell_type": "code",
   "execution_count": 30,
   "id": "75266bf5",
   "metadata": {},
   "outputs": [
    {
     "data": {
      "text/plain": [
       "matrix([[ 37,  14, -32, -10],\n",
       "        [-54,  -7,  58,  65]])"
      ]
     },
     "execution_count": 30,
     "metadata": {},
     "output_type": "execute_result"
    }
   ],
   "source": [
    "#BY USING np.mat(A,B)\n",
    "import numpy as np\n",
    "def Matway(M,N):\n",
    "    return np.array(np.mat(M)*np.mat(N),subok=True)\n",
    "M,N ='3 -1 4; 1 5 -9','2 6 -5 3; 5 -8 9 7; 9 -3 -2 -3'\n",
    "Matway(M,N)"
   ]
  },
  {
   "cell_type": "markdown",
   "id": "a7693d6f",
   "metadata": {},
   "source": [
    "# Question 2 problem 2\n"
   ]
  },
  {
   "cell_type": "code",
   "execution_count": 31,
   "id": "41b849c0",
   "metadata": {},
   "outputs": [
    {
     "data": {
      "text/plain": [
       "array([[   9,   -7,   20],\n",
       "       [  -7,   25, -135],\n",
       "       [ 425,    9,   -7]])"
      ]
     },
     "execution_count": 31,
     "metadata": {},
     "output_type": "execute_result"
    }
   ],
   "source": [
    "import numpy as np\n",
    "def g(A):\n",
    "    A = np.array(A)\n",
    "    R = (-A * A * A) + (9 * A * A) - (15 * A)\n",
    "    return R\n",
    "A = [[3, 1, 4], [1, 5, 9], [-5, 3, 1]]\n",
    "g(A)"
   ]
  },
  {
   "cell_type": "markdown",
   "id": "ac56a668",
   "metadata": {},
   "source": [
    "#  Question 2 problem 5"
   ]
  },
  {
   "cell_type": "code",
   "execution_count": 32,
   "id": "2db0f97d",
   "metadata": {},
   "outputs": [],
   "source": [
    "import numpy as np\n",
    "def blockmatrix(A, B, C):\n",
    "    A = np.array(A)\n",
    "    B = np.array(B)\n",
    "    C = np.array(C)\n",
    "    row1 = np.column_stack((np.zeros((3,3)), A.T, np.eye((3))))\n",
    "    row2 = np.column_stack((A, np.zeros((2, 2)), np.zeros((2, 3))))\n",
    "    row3 = np.column_stack((B, np.zeros((3,2)), C))\n",
    "    print(np.vstack((row1, row2, row3)))"
   ]
  },
  {
   "cell_type": "code",
   "execution_count": 33,
   "id": "6aff1b00",
   "metadata": {},
   "outputs": [
    {
     "name": "stdout",
     "output_type": "stream",
     "text": [
      "[[ 0.  0.  0.  0.  1.  1.  0.  0.]\n",
      " [ 0.  0.  0.  2.  3.  0.  1.  0.]\n",
      " [ 0.  0.  0.  4.  5.  0.  0.  1.]\n",
      " [ 0.  2.  4.  0.  0.  0.  0.  0.]\n",
      " [ 1.  3.  5.  0.  0.  0.  0.  0.]\n",
      " [ 3.  0.  0.  0.  0. -2.  0.  0.]\n",
      " [ 3.  3.  0.  0.  0.  0. -2.  0.]\n",
      " [ 3.  3.  3.  0.  0.  0.  0. -2.]]\n"
     ]
    }
   ],
   "source": [
    "A = [[0, 2, 4], [1, 3, 5]]\n",
    "B = [[3, 0, 0], [3, 3, 0], [3, 3, 3]]\n",
    "C = [[-2, 0, 0], [0, -2, 0], [0, 0, -2]]\n",
    "blockmatrix(A, B, C)"
   ]
  },
  {
   "cell_type": "code",
   "execution_count": 37,
   "id": "6cee2fca",
   "metadata": {},
   "outputs": [
    {
     "ename": "SyntaxError",
     "evalue": "invalid syntax (<ipython-input-37-4fb7fa2e6e90>, line 9)",
     "output_type": "error",
     "traceback": [
      "\u001b[1;36m  File \u001b[1;32m\"<ipython-input-37-4fb7fa2e6e90>\"\u001b[1;36m, line \u001b[1;32m9\u001b[0m\n\u001b[1;33m    column_two = np.vstack((M.T,np.zeros((2,2)),np.zeros((3,2))))\u001b[0m\n\u001b[1;37m    ^\u001b[0m\n\u001b[1;31mSyntaxError\u001b[0m\u001b[1;31m:\u001b[0m invalid syntax\n"
     ]
    }
   ],
   "source": [
    "# or #I think matrices' dimensions are correct but I don't know why I got \n",
    "#'invalid syntax error'\n",
    "import numpy as np\n",
    "def blockmax(M,N,G):\n",
    "    M = np.array(M)\n",
    "    N = np.array(N)\n",
    "    G = np.array(G)\n",
    "    column_one = np.vstack(((np.zeros((3,3)),M,N))\n",
    "    column_two = np.vstack((M.T,np.zeros((2,2)),np.zeros((3,2))))\n",
    "    column_three = np.vstack((np.eye((3)),np.zeros((2, 3)),G)))\n",
    "    print(np.hstack((column_one,column_two,column_three)))"
   ]
  },
  {
   "cell_type": "code",
   "execution_count": 34,
   "id": "95cae0d7",
   "metadata": {},
   "outputs": [
    {
     "ename": "NameError",
     "evalue": "name 'blockmax' is not defined",
     "output_type": "error",
     "traceback": [
      "\u001b[1;31m---------------------------------------------------------------------------\u001b[0m",
      "\u001b[1;31mNameError\u001b[0m                                 Traceback (most recent call last)",
      "\u001b[1;32m<ipython-input-34-5bd13d838745>\u001b[0m in \u001b[0;36m<module>\u001b[1;34m\u001b[0m\n\u001b[0;32m      2\u001b[0m \u001b[0mN\u001b[0m \u001b[1;33m=\u001b[0m \u001b[1;33m[\u001b[0m\u001b[1;33m[\u001b[0m\u001b[1;36m3\u001b[0m\u001b[1;33m,\u001b[0m \u001b[1;36m0\u001b[0m\u001b[1;33m,\u001b[0m \u001b[1;36m0\u001b[0m\u001b[1;33m]\u001b[0m\u001b[1;33m,\u001b[0m \u001b[1;33m[\u001b[0m\u001b[1;36m3\u001b[0m\u001b[1;33m,\u001b[0m \u001b[1;36m3\u001b[0m\u001b[1;33m,\u001b[0m \u001b[1;36m0\u001b[0m\u001b[1;33m]\u001b[0m\u001b[1;33m,\u001b[0m \u001b[1;33m[\u001b[0m\u001b[1;36m3\u001b[0m\u001b[1;33m,\u001b[0m \u001b[1;36m3\u001b[0m\u001b[1;33m,\u001b[0m \u001b[1;36m3\u001b[0m\u001b[1;33m]\u001b[0m\u001b[1;33m]\u001b[0m\u001b[1;33m\u001b[0m\u001b[1;33m\u001b[0m\u001b[0m\n\u001b[0;32m      3\u001b[0m \u001b[0mG\u001b[0m \u001b[1;33m=\u001b[0m \u001b[1;33m[\u001b[0m\u001b[1;33m[\u001b[0m\u001b[1;33m-\u001b[0m\u001b[1;36m2\u001b[0m\u001b[1;33m,\u001b[0m \u001b[1;36m0\u001b[0m\u001b[1;33m,\u001b[0m \u001b[1;36m0\u001b[0m\u001b[1;33m]\u001b[0m\u001b[1;33m,\u001b[0m \u001b[1;33m[\u001b[0m\u001b[1;36m0\u001b[0m\u001b[1;33m,\u001b[0m \u001b[1;33m-\u001b[0m\u001b[1;36m2\u001b[0m\u001b[1;33m,\u001b[0m \u001b[1;36m0\u001b[0m\u001b[1;33m]\u001b[0m\u001b[1;33m,\u001b[0m \u001b[1;33m[\u001b[0m\u001b[1;36m0\u001b[0m\u001b[1;33m,\u001b[0m \u001b[1;36m0\u001b[0m\u001b[1;33m,\u001b[0m \u001b[1;33m-\u001b[0m\u001b[1;36m2\u001b[0m\u001b[1;33m]\u001b[0m\u001b[1;33m]\u001b[0m\u001b[1;33m\u001b[0m\u001b[1;33m\u001b[0m\u001b[0m\n\u001b[1;32m----> 4\u001b[1;33m \u001b[0mblockmax\u001b[0m\u001b[1;33m(\u001b[0m\u001b[0mA\u001b[0m\u001b[1;33m,\u001b[0m \u001b[0mB\u001b[0m\u001b[1;33m,\u001b[0m \u001b[0mC\u001b[0m\u001b[1;33m)\u001b[0m\u001b[1;33m\u001b[0m\u001b[1;33m\u001b[0m\u001b[0m\n\u001b[0m",
      "\u001b[1;31mNameError\u001b[0m: name 'blockmax' is not defined"
     ]
    }
   ],
   "source": [
    "M = [[0, 2, 4], [1, 3, 5]]\n",
    "N = [[3, 0, 0], [3, 3, 0], [3, 3, 3]]\n",
    "G = [[-2, 0, 0], [0, -2, 0], [0, 0, -2]]        \n",
    "blockmax(A, B, C) "
   ]
  },
  {
   "cell_type": "markdown",
   "id": "07c51a05",
   "metadata": {},
   "source": [
    "# Question 3 problem 1\n"
   ]
  },
  {
   "cell_type": "code",
   "execution_count": 45,
   "id": "f1ac832c",
   "metadata": {},
   "outputs": [
    {
     "name": "stdout",
     "output_type": "stream",
     "text": [
      "No Room!\n",
      "contents:  ['pen', 'pencil', 'notebook', 'laptop', 'mouse']\n"
     ]
    }
   ],
   "source": [
    "class Backpack(object):    #Part 1\n",
    "    def __init__(self, name, color, max_size = 5):\n",
    "        '''\n",
    "        (part 4) object class. including a name, a color, \n",
    "        and maximum size for contents and a content list.\n",
    "\n",
    "        Attributes:\n",
    "             name (string) : name of the backpack's owner.\n",
    "             color (string) : color of the backpack.\n",
    "             max_size (integer) : the maximum size of the backpack.\n",
    "             contents (list) : contents of the backpack.\n",
    "        '''\n",
    "        self.name = name\n",
    "        self.contents = []\n",
    "        self.color = color\n",
    "        self.max_size = max_size\n",
    "\n",
    "    def put(self, item):    #part 2\n",
    "        if len(self.contents) >= self.max_size:\n",
    "            print(\"No Room!\")\n",
    "        else:\n",
    "            self.contents.append(item)\n",
    "\n",
    "    def dump(self):    #part 3\n",
    "        self.contents = []\n",
    "\n",
    "#-----------------------------------------------------------------\n",
    "#-----------------------------------------------------------------\n",
    "testpack = Backpack(\"Mahyar\", \"Blue\")\n",
    "for item in [\"pen\", \"pencil\", \"notebook\", \"laptop\", \"mouse\", \"umbrella\"]:\n",
    "    testpack.put(item)\n",
    "print(\"contents: \", testpack.contents)\n",
    "# no room for \"umbrella\"!"
   ]
  },
  {
   "cell_type": "code",
   "execution_count": 39,
   "id": "21fa3beb",
   "metadata": {},
   "outputs": [
    {
     "name": "stdout",
     "output_type": "stream",
     "text": [
      "contents:  []\n"
     ]
    }
   ],
   "source": [
    "testpack.dump()\n",
    "print(\"contents: \", testpack.contents)"
   ]
  },
  {
   "cell_type": "markdown",
   "id": "47b5089a",
   "metadata": {},
   "source": [
    "# Question 3 problem 2"
   ]
  },
  {
   "cell_type": "code",
   "execution_count": 40,
   "id": "e6761c8f",
   "metadata": {},
   "outputs": [],
   "source": [
    "# Backpack object class, attributes and details are explained and constructed in previous lines in problem 1.\n",
    "# First run Problem 1, Backpack class. \n",
    "\n",
    "########################################################################\n",
    "########################################################################\n",
    "\n",
    "class Jetpack(Backpack):\n",
    "    \"\"\"\n",
    "    A Jetpack object class. Inherited from Backpack class.\n",
    "    A Jetpack is smaller than a Backpackself.\n",
    "\n",
    "    Attributes:\n",
    "        name (str): the name of the Jetpack's owner.\n",
    "        color (str): color of Jetpack\n",
    "        max_size (int): maximum number of items that can be fit inside the Jetpack\n",
    "        fuel (int):\n",
    "        contents (list): the contents of the Jetpack\n",
    "    \"\"\"\n",
    "    def __init__(self, name, color, max_size = 2, fuel =10):\n",
    "        Backpack.__init__(self, name, color, max_size)\n",
    "        self.fuel = fuel\n",
    "\n",
    "    def fly(self, burned_fuel):\n",
    "        self.burned_fuel = burned_fuel\n",
    "        if self.burned_fuel <= self.fuel:\n",
    "            self.fuel = self.fuel - self.burned_fuel\n",
    "        if self.burned_fuel > self.fuel:\n",
    "            self.fuel = self.fuel\n",
    "            print(\"Not Enough Fuel!\")\n",
    "    def dump(self):\n",
    "        Backpack.dump(self)\n",
    "        self.fuel = 0"
   ]
  },
  {
   "cell_type": "code",
   "execution_count": 41,
   "id": "ba8d52db",
   "metadata": {},
   "outputs": [
    {
     "name": "stdout",
     "output_type": "stream",
     "text": [
      "['calculator'] 10\n"
     ]
    }
   ],
   "source": [
    "test = Jetpack(\"Mahyar\", \"White\")\n",
    "test.put(\"calculator\")\n",
    "print(test.contents, test.fuel)"
   ]
  },
  {
   "cell_type": "code",
   "execution_count": 42,
   "id": "82a76f0d",
   "metadata": {},
   "outputs": [
    {
     "name": "stdout",
     "output_type": "stream",
     "text": [
      "[] 0\n"
     ]
    }
   ],
   "source": [
    "test.dump()\n",
    "print(test.contents, test.fuel)"
   ]
  },
  {
   "cell_type": "code",
   "execution_count": 43,
   "id": "662f645e",
   "metadata": {},
   "outputs": [
    {
     "name": "stdout",
     "output_type": "stream",
     "text": [
      "No Room!\n",
      "['pen', 'pencil'] 0\n"
     ]
    }
   ],
   "source": [
    "for item in [\"pen\", \"pencil\", \"notebook\"]:\n",
    "    test.put(item)\n",
    "print(test.contents, test.fuel)"
   ]
  },
  {
   "cell_type": "code",
   "execution_count": 44,
   "id": "40d51a49",
   "metadata": {},
   "outputs": [
    {
     "name": "stdout",
     "output_type": "stream",
     "text": [
      "Not Enough Fuel!\n",
      "['pen', 'pencil'] 0\n"
     ]
    }
   ],
   "source": [
    "test.fly(1)\n",
    "print(test.contents, test.fuel)"
   ]
  }
 ],
 "metadata": {
  "kernelspec": {
   "display_name": "Python 3",
   "language": "python",
   "name": "python3"
  },
  "language_info": {
   "codemirror_mode": {
    "name": "ipython",
    "version": 3
   },
   "file_extension": ".py",
   "mimetype": "text/x-python",
   "name": "python",
   "nbconvert_exporter": "python",
   "pygments_lexer": "ipython3",
   "version": "3.8.8"
  }
 },
 "nbformat": 4,
 "nbformat_minor": 5
}
